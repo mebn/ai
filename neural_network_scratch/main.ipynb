{
 "cells": [
  {
   "cell_type": "code",
   "execution_count": 1,
   "id": "ce129a16-6ede-49b1-b18a-f55573493d8b",
   "metadata": {},
   "outputs": [],
   "source": [
    "import pandas as pd\n",
    "import matplotlib.pyplot as plt\n",
    "%matplotlib inline\n",
    "import numpy as np"
   ]
  },
  {
   "cell_type": "code",
   "execution_count": 2,
   "id": "ea923fa0-f6b1-4ce0-af28-82201a531404",
   "metadata": {},
   "outputs": [],
   "source": [
    "data = pd.read_csv(\"https://raw.githubusercontent.com/wehrley/Kaggle-Digit-Recognizer/master/train.csv\") # 42000 images, each an array of 784 (28*28)\n",
    "test = pd.read_csv(\"https://raw.githubusercontent.com/wehrley/Kaggle-Digit-Recognizer/master/test.csv\") # 28000 images"
   ]
  },
  {
   "cell_type": "code",
   "execution_count": 3,
   "id": "d039ed9d-54ea-454f-8346-740eb6a1715c",
   "metadata": {},
   "outputs": [],
   "source": [
    "data = np.array(data)\n",
    "m, n = data.shape\n",
    "np.random.shuffle(data) # shuffle before splitting into dev and training sets\n",
    "\n",
    "data_dev = data[0:1000].T\n",
    "Y_dev = data_dev[0]\n",
    "X_dev = data_dev[1:n]\n",
    "X_dev = X_dev / 255.\n",
    "\n",
    "data_train = data[1000:m].T\n",
    "Y_train = data_train[0]\n",
    "X_train = data_train[1:n]\n",
    "X_train = X_train / 255.\n",
    "_,m_train = X_train.shape\n"
   ]
  },
  {
   "cell_type": "code",
   "execution_count": 4,
   "id": "73f1129e-1ab1-4308-80d0-0d060771047b",
   "metadata": {},
   "outputs": [
    {
     "data": {
      "text/plain": [
       "<matplotlib.image.AxesImage at 0x11dfb4690>"
      ]
     },
     "execution_count": 4,
     "metadata": {},
     "output_type": "execute_result"
    },
    {
     "data": {
      "image/png": "[encoded data removed]",
      "text/plain": [
       "<Figure size 640x480 with 1 Axes>"
      ]
     },
     "metadata": {},
     "output_type": "display_data"
    }
   ],
   "source": [
    "one = X_train[:, 9]\n",
    "one = one.reshape(28,28)\n",
    "one.shape\n",
    "plt.imshow(one)"
   ]
  },
  {
   "cell_type": "code",
   "execution_count": 5,
   "id": "98f9701e-7dde-4c06-93c8-2c7a3fa6d541",
   "metadata": {},
   "outputs": [],
   "source": [
    "def init_params():\n",
    "    W1 = np.random.rand(10, 784) - 0.5\n",
    "    b1 = np.random.rand(10, 1) - 0.5\n",
    "    W2 = np.random.rand(10, 10) - 0.5\n",
    "    b2 = np.random.rand(10, 1) - 0.5\n",
    "    return W1, b1, W2, b2\n",
    "\n",
    "def ReLU(Z):\n",
    "    return np.maximum(Z, 0)\n",
    "\n",
    "def softmax(Z):\n",
    "    A = np.exp(Z) / sum(np.exp(Z))\n",
    "    return A\n",
    "    \n",
    "def forward_prop(W1, b1, W2, b2, X):\n",
    "    Z1 = W1.dot(X) + b1\n",
    "    A1 = ReLU(Z1)\n",
    "    Z2 = W2.dot(A1) + b2\n",
    "    A2 = softmax(Z2)\n",
    "    return Z1, A1, Z2, A2\n",
    "\n",
    "def ReLU_deriv(Z):\n",
    "    return Z > 0\n",
    "\n",
    "def one_hot(Y):\n",
    "    one_hot_Y = np.zeros((Y.size, Y.max() + 1))\n",
    "    one_hot_Y[np.arange(Y.size), Y] = 1\n",
    "    one_hot_Y = one_hot_Y.T\n",
    "    return one_hot_Y\n",
    "\n",
    "def backward_prop(Z1, A1, Z2, A2, W1, W2, X, Y):\n",
    "    one_hot_Y = one_hot(Y)\n",
    "    dZ2 = A2 - one_hot_Y\n",
    "    dW2 = 1 / m * dZ2.dot(A1.T)\n",
    "    db2 = 1 / m * np.sum(dZ2)\n",
    "    dZ1 = W2.T.dot(dZ2) * ReLU_deriv(Z1)\n",
    "    dW1 = 1 / m * dZ1.dot(X.T)\n",
    "    db1 = 1 / m * np.sum(dZ1)\n",
    "    return dW1, db1, dW2, db2\n",
    "\n",
    "def update_params(W1, b1, W2, b2, dW1, db1, dW2, db2, alpha):\n",
    "    W1 = W1 - alpha * dW1\n",
    "    b1 = b1 - alpha * db1    \n",
    "    W2 = W2 - alpha * dW2  \n",
    "    b2 = b2 - alpha * db2    \n",
    "    return W1, b1, W2, b2"
   ]
  },
  {
   "cell_type": "code",
   "execution_count": 12,
   "id": "fb27aa10-40c2-43b8-8e1e-67fd24ba5455",
   "metadata": {},
   "outputs": [],
   "source": [
    "def get_predictions(A2):\n",
    "    return np.argmax(A2, 0)\n",
    "\n",
    "def get_accuracy(predictions, Y):\n",
    "    # print(predictions, Y)\n",
    "    return np.sum(predictions == Y) / Y.size\n",
    "\n",
    "def gradient_descent(X, Y, alpha, iterations):\n",
    "    W1, b1, W2, b2 = init_params()\n",
    "    for i in range(iterations):\n",
    "        Z1, A1, Z2, A2 = forward_prop(W1, b1, W2, b2, X)\n",
    "        dW1, db1, dW2, db2 = backward_prop(Z1, A1, Z2, A2, W1, W2, X, Y)\n",
    "        W1, b1, W2, b2 = update_params(W1, b1, W2, b2, dW1, db1, dW2, db2, alpha)\n",
    "        if i % 10 == 0:\n",
    "            print(\"Iteration: \", i)\n",
    "            predictions = get_predictions(A2)\n",
    "            print(get_accuracy(predictions, Y))\n",
    "    return W1, b1, W2, b2"
   ]
  },
  {
   "cell_type": "code",
   "execution_count": 8,
   "id": "a07d0f52-62a5-440e-8968-9d23f7d3ffe2",
   "metadata": {},
   "outputs": [
    {
     "name": "stdout",
     "output_type": "stream",
     "text": [
      "Iteration:  0\n",
      "[8 8 8 ... 2 2 0] [8 5 0 ... 8 4 7]\n",
      "0.12558536585365854\n",
      "Iteration:  10\n",
      "[2 0 0 ... 2 2 9] [8 5 0 ... 8 4 7]\n",
      "0.17653658536585365\n",
      "Iteration:  20\n",
      "[2 0 0 ... 2 2 9] [8 5 0 ... 8 4 7]\n",
      "0.20151219512195123\n",
      "Iteration:  30\n",
      "[2 0 0 ... 2 2 9] [8 5 0 ... 8 4 7]\n",
      "0.2271219512195122\n",
      "Iteration:  40\n",
      "[6 0 0 ... 2 2 9] [8 5 0 ... 8 4 7]\n",
      "0.27634146341463417\n",
      "Iteration:  50\n",
      "[6 7 0 ... 6 2 9] [8 5 0 ... 8 4 7]\n",
      "0.32478048780487806\n",
      "Iteration:  60\n",
      "[6 7 0 ... 6 6 9] [8 5 0 ... 8 4 7]\n",
      "0.3645609756097561\n",
      "Iteration:  70\n",
      "[8 5 0 ... 6 6 9] [8 5 0 ... 8 4 7]\n",
      "0.4117073170731707\n",
      "Iteration:  80\n",
      "[8 5 0 ... 6 6 9] [8 5 0 ... 8 4 7]\n",
      "0.45234146341463416\n",
      "Iteration:  90\n",
      "[8 5 0 ... 6 6 7] [8 5 0 ... 8 4 7]\n",
      "0.4861219512195122\n",
      "Iteration:  100\n",
      "[8 5 0 ... 6 6 7] [8 5 0 ... 8 4 7]\n",
      "0.5146829268292683\n",
      "Iteration:  110\n",
      "[8 5 0 ... 6 4 7] [8 5 0 ... 8 4 7]\n",
      "0.540609756097561\n",
      "Iteration:  120\n",
      "[8 5 0 ... 6 4 7] [8 5 0 ... 8 4 7]\n",
      "0.5642682926829268\n",
      "Iteration:  130\n",
      "[8 5 0 ... 6 4 7] [8 5 0 ... 8 4 7]\n",
      "0.5851951219512195\n",
      "Iteration:  140\n",
      "[8 5 0 ... 6 4 7] [8 5 0 ... 8 4 7]\n",
      "0.6071219512195122\n",
      "Iteration:  150\n",
      "[8 5 0 ... 6 4 7] [8 5 0 ... 8 4 7]\n",
      "0.6322439024390244\n",
      "Iteration:  160\n",
      "[8 5 0 ... 6 4 7] [8 5 0 ... 8 4 7]\n",
      "0.659\n",
      "Iteration:  170\n",
      "[8 5 0 ... 8 4 7] [8 5 0 ... 8 4 7]\n",
      "0.6840243902439025\n",
      "Iteration:  180\n",
      "[8 5 0 ... 8 4 7] [8 5 0 ... 8 4 7]\n",
      "0.7027560975609756\n",
      "Iteration:  190\n",
      "[8 5 0 ... 8 4 7] [8 5 0 ... 8 4 7]\n",
      "0.7175853658536585\n",
      "Iteration:  200\n",
      "[1 5 0 ... 8 4 7] [8 5 0 ... 8 4 7]\n",
      "0.7299512195121951\n",
      "Iteration:  210\n",
      "[1 5 0 ... 8 4 7] [8 5 0 ... 8 4 7]\n",
      "0.740780487804878\n",
      "Iteration:  220\n",
      "[1 5 0 ... 8 4 7] [8 5 0 ... 8 4 7]\n",
      "0.748780487804878\n",
      "Iteration:  230\n",
      "[1 5 0 ... 8 4 7] [8 5 0 ... 8 4 7]\n",
      "0.756609756097561\n",
      "Iteration:  240\n",
      "[1 5 0 ... 8 4 7] [8 5 0 ... 8 4 7]\n",
      "0.7645365853658537\n",
      "Iteration:  250\n",
      "[1 5 0 ... 8 4 7] [8 5 0 ... 8 4 7]\n",
      "0.7711951219512195\n",
      "Iteration:  260\n",
      "[1 5 0 ... 8 4 7] [8 5 0 ... 8 4 7]\n",
      "0.7772439024390244\n",
      "Iteration:  270\n",
      "[1 5 0 ... 8 4 7] [8 5 0 ... 8 4 7]\n",
      "0.7831463414634147\n",
      "Iteration:  280\n",
      "[8 5 0 ... 8 4 7] [8 5 0 ... 8 4 7]\n",
      "0.788219512195122\n",
      "Iteration:  290\n",
      "[8 5 0 ... 8 4 7] [8 5 0 ... 8 4 7]\n",
      "0.7927804878048781\n",
      "Iteration:  300\n",
      "[8 5 0 ... 8 4 7] [8 5 0 ... 8 4 7]\n",
      "0.7968048780487805\n",
      "Iteration:  310\n",
      "[8 5 0 ... 8 4 7] [8 5 0 ... 8 4 7]\n",
      "0.8005609756097561\n",
      "Iteration:  320\n",
      "[8 5 0 ... 8 4 7] [8 5 0 ... 8 4 7]\n",
      "0.804\n",
      "Iteration:  330\n",
      "[8 5 0 ... 8 4 7] [8 5 0 ... 8 4 7]\n",
      "0.8075609756097561\n",
      "Iteration:  340\n",
      "[8 5 0 ... 8 4 7] [8 5 0 ... 8 4 7]\n",
      "0.8111463414634147\n",
      "Iteration:  350\n",
      "[8 5 0 ... 8 4 7] [8 5 0 ... 8 4 7]\n",
      "0.8147560975609756\n",
      "Iteration:  360\n",
      "[8 5 0 ... 8 4 7] [8 5 0 ... 8 4 7]\n",
      "0.8175853658536585\n",
      "Iteration:  370\n",
      "[8 5 0 ... 8 4 7] [8 5 0 ... 8 4 7]\n",
      "0.8199512195121951\n",
      "Iteration:  380\n",
      "[8 5 0 ... 8 4 7] [8 5 0 ... 8 4 7]\n",
      "0.8226097560975609\n",
      "Iteration:  390\n",
      "[8 5 0 ... 8 4 7] [8 5 0 ... 8 4 7]\n",
      "0.8250243902439024\n",
      "Iteration:  400\n",
      "[8 5 0 ... 8 4 7] [8 5 0 ... 8 4 7]\n",
      "0.8271463414634146\n",
      "Iteration:  410\n",
      "[8 5 0 ... 8 4 7] [8 5 0 ... 8 4 7]\n",
      "0.8289756097560975\n",
      "Iteration:  420\n",
      "[8 5 0 ... 8 4 7] [8 5 0 ... 8 4 7]\n",
      "0.8309268292682926\n",
      "Iteration:  430\n",
      "[8 5 0 ... 8 4 7] [8 5 0 ... 8 4 7]\n",
      "0.8331951219512195\n",
      "Iteration:  440\n",
      "[8 5 0 ... 8 4 7] [8 5 0 ... 8 4 7]\n",
      "0.8349268292682926\n",
      "Iteration:  450\n",
      "[8 5 0 ... 8 4 7] [8 5 0 ... 8 4 7]\n",
      "0.8365609756097561\n",
      "Iteration:  460\n",
      "[8 5 0 ... 8 4 7] [8 5 0 ... 8 4 7]\n",
      "0.8381951219512195\n",
      "Iteration:  470\n",
      "[8 5 0 ... 8 4 7] [8 5 0 ... 8 4 7]\n",
      "0.8398292682926829\n",
      "Iteration:  480\n",
      "[8 5 0 ... 8 4 7] [8 5 0 ... 8 4 7]\n",
      "0.8410487804878048\n",
      "Iteration:  490\n",
      "[8 5 0 ... 8 4 7] [8 5 0 ... 8 4 7]\n",
      "0.8422195121951219\n"
     ]
    }
   ],
   "source": [
    "W1, b1, W2, b2 = gradient_descent(X_train, Y_train, 0.1, 500) # training"
   ]
  },
  {
   "cell_type": "code",
   "execution_count": 9,
   "id": "7eb14405-4d64-45d4-881a-6c76e04e587a",
   "metadata": {},
   "outputs": [],
   "source": [
    "def make_predictions(X, W1, b1, W2, b2):\n",
    "    _, _, _, A2 = forward_prop(W1, b1, W2, b2, X)\n",
    "    predictions = get_predictions(A2)\n",
    "    return predictions\n",
    "\n",
    "def test_prediction(index, W1, b1, W2, b2):\n",
    "    current_image = X_train[:, index, None]\n",
    "    prediction = make_predictions(X_train[:, index, None], W1, b1, W2, b2)\n",
    "    label = Y_train[index]\n",
    "    print(\"Prediction: \", prediction)\n",
    "    print(\"Label: \", label)\n",
    "    \n",
    "    current_image = current_image.reshape((28, 28)) * 255\n",
    "    plt.gray()\n",
    "    plt.imshow(current_image, interpolation='nearest')\n",
    "    plt.show()"
   ]
  },
  {
   "cell_type": "code",
   "execution_count": 10,
   "id": "8315f9e0-f5eb-482f-893b-af994d0f93d7",
   "metadata": {},
   "outputs": [
    {
     "name": "stdout",
     "output_type": "stream",
     "text": [
      "Prediction:  [8]\n",
      "Label:  8\n"
     ]
    },
    {
     "data": {
      "image/png": "[encoded data removed]",
      "text/plain": [
       "<Figure size 640x480 with 1 Axes>"
      ]
     },
     "metadata": {},
     "output_type": "display_data"
    },
    {
     "name": "stdout",
     "output_type": "stream",
     "text": [
      "Prediction:  [5]\n",
      "Label:  5\n"
     ]
    },
    {
     "data": {
      "image/png": "[encoded data removed]",
      "text/plain": [
       "<Figure size 640x480 with 1 Axes>"
      ]
     },
     "metadata": {},
     "output_type": "display_data"
    },
    {
     "name": "stdout",
     "output_type": "stream",
     "text": [
      "Prediction:  [0]\n",
      "Label:  0\n"
     ]
    },
    {
     "data": {
      "image/png": "[encoded data removed]",
      "text/plain": [
       "<Figure size 640x480 with 1 Axes>"
      ]
     },
     "metadata": {},
     "output_type": "display_data"
    },
    {
     "name": "stdout",
     "output_type": "stream",
     "text": [
      "Prediction:  [7]\n",
      "Label:  7\n"
     ]
    },
    {
     "data": {
      "image/png": "[encoded data removed]",
      "text/plain": [
       "<Figure size 640x480 with 1 Axes>"
      ]
     },
     "metadata": {},
     "output_type": "display_data"
    }
   ],
   "source": [
    "test_prediction(0, W1, b1, W2, b2)\n",
    "test_prediction(1, W1, b1, W2, b2)\n",
    "test_prediction(2, W1, b1, W2, b2)\n",
    "test_prediction(3, W1, b1, W2, b2)"
   ]
  },
  {
   "cell_type": "code",
   "execution_count": 13,
   "id": "cb62df12-402e-4770-b759-854cb39b0f79",
   "metadata": {},
   "outputs": [
    {
     "data": {
      "text/plain": [
       "0.854"
      ]
     },
     "execution_count": 13,
     "metadata": {},
     "output_type": "execute_result"
    }
   ],
   "source": [
    "dev_predictions = make_predictions(X_dev, W1, b1, W2, b2)\n",
    "get_accuracy(dev_predictions, Y_dev)"
   ]
  }
 ],
 "metadata": {
  "kernelspec": {
   "display_name": "Python 3 (ipykernel)",
   "language": "python",
   "name": "python3"
  },
  "language_info": {
   "codemirror_mode": {
    "name": "ipython",
    "version": 3
   },
   "file_extension": ".py",
   "mimetype": "text/x-python",
   "name": "python",
   "nbconvert_exporter": "python",
   "pygments_lexer": "ipython3",
   "version": "3.11.5"
  }
 },
 "nbformat": 4,
 "nbformat_minor": 5
}
